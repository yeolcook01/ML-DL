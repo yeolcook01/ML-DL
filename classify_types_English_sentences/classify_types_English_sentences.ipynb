{
  "cells": [
    {
      "cell_type": "markdown",
      "metadata": {
        "id": "u2eN5sivWUmQ"
      },
      "source": [
        "### Project: Classifying English sentences into simple / complex / compound / complex-compound\n",
        "- Result: Count of actual inputs: 288, Accuracy: 0.9513888888888888"
      ]
    },
    {
      "cell_type": "markdown",
      "metadata": {
        "id": "UXIb0hX0Q_0w"
      },
      "source": [
        "### 아이디어 설명\n",
        "0. 태스크: sentence type을 simple / complex / compound / complex-compound로 분류하는 것\n",
        "1. 해결 아이디어: Rule-based\n",
        "- why Rule-based?: 데이터셋이 충분하지 않음 & 문장 형식 기반으로 type을 구분하는 기준이 꽤 명확한 편임 -> 자연어처리 모듈을 활용할 경우 Rule-base로도 높은 정확도로 해결될 것이라 판단\n",
        "- 문장을 절 단위로 구분\n",
        "- 문장을 구성하는 독립절, 종속절의 개수를 파악\n",
        "- 독립절 1개: simple, 독립절 1개와 종속절 2개 이상: complex, 독립절 2개 이상: compound, 독립절 2개 이상과 종속절 1개 이상: complex-compound\n",
        "\n",
        "2. 데이터셋 마련:\n",
        "- 인터넷 검색을 통한 데이터 크롤링 & chatgpt를 통해 생성 -> 약 290개의 데이터\n",
        "3. 태스크 성격에 따라, 각 텍스트에 의미론적(semantic)으로 접근하기보다, 형식적(syntactic)으로 접근하는 것이 맞다고 판단함.\n",
        "- 이에 따라 원본 텍스트 형식을 훼손하는 전처리를 지양함.\n",
        "- 문장 내에서 각 토큰 간 dependency를 파악하고, 각 문장의 syntactic analysis을 기반으로 Constituent의 hierarchy tree를 생성하여 종속절 유무를 파악함\n",
        "4. 사용 라이브러리: spacy & constituent_treelib\n",
        "- spacy.load(\"en_core_web_sm\"), token.dep_를 통해 각 문장을 구성하는 토큰의 dependency를 분석\n",
        "- constituent_treelib(CTL): Lightweight Python library to parse sentences into constituent trees, Built on top of benepar (Berkeley Neural Parser) as well as the two well-known NLP frameworks spaCy and NLTK.\n",
        "- https://github.com/Halvani/Constituent-Treelib\n",
        "\n",
        "\n",
        "5. 구현:\n",
        "- constituent_tree 기반으로 'SBAR'를 활용하여 종속절 유무 파악\n",
        "- 원본 문장에서 종속절을 제거한 후 남은 문장에서, 절의 주어 개수를 기준으로(if token.dep_ in ['nsubj', 'nsubjpass', 'csubj', 'csubjpass']) 독립절 개수 파악\n",
        "- 명령문 케이스 별도 처리\n",
        "- There 유도부사 도치구문 케이스 별도 처리"
      ]
    },
    {
      "cell_type": "markdown",
      "metadata": {
        "id": "cRr1EwgDREF-"
      },
      "source": [
        "### Setting"
      ]
    },
    {
      "cell_type": "code",
      "execution_count": null,
      "metadata": {
        "id": "R77QvKdIarof"
      },
      "outputs": [],
      "source": [
        "import pandas as pd\n",
        "from sklearn.model_selection import train_test_split\n",
        "import os\n",
        "import numpy as np"
      ]
    },
    {
      "cell_type": "code",
      "execution_count": null,
      "metadata": {
        "colab": {
          "base_uri": "https://localhost:8080/"
        },
        "id": "xFC5V8x7rUph",
        "outputId": "b900bb6d-7d92-4f51-c973-dad21d5f8fee"
      },
      "outputs": [],
      "source": [
        "%cd '/content/drive/MyDrive/ML'"
      ]
    },
    {
      "cell_type": "code",
      "execution_count": null,
      "metadata": {
        "id": "QSLBpUxzrWJ3"
      },
      "outputs": [],
      "source": [
        "label_files = {\n",
        "    1: 'dataset/label1.txt',\n",
        "    2: 'dataset/label2.txt',\n",
        "    3: 'dataset/label3.txt',\n",
        "    4: 'dataset/label4.txt'\n",
        "}"
      ]
    },
    {
      "cell_type": "code",
      "execution_count": null,
      "metadata": {
        "colab": {
          "base_uri": "https://localhost:8080/"
        },
        "id": "5SpedCA0rXTH",
        "outputId": "e2350fb7-4a4c-45b5-9a63-e1364bc24bf0"
      },
      "outputs": [
        {
          "name": "stdout",
          "output_type": "stream",
          "text": [
            "(71,)\n",
            "(92,)\n",
            "(81,)\n",
            "(47,)\n"
          ]
        }
      ],
      "source": [
        "for i in range(1,5):\n",
        "    with open(label_files[i], 'r') as file:\n",
        "        print(np.array([line.strip() for line in file]).shape)"
      ]
    },
    {
      "cell_type": "code",
      "execution_count": null,
      "metadata": {
        "id": "wHQnYTrZrZEw"
      },
      "outputs": [],
      "source": [
        "#Initiate DataFrame\n",
        "all_data = pd.DataFrame(columns=['text', 'label'])\n",
        "\n",
        "# read file\n",
        "for label, file_path in label_files.items():\n",
        "    with open(file_path, 'r', encoding='utf-8') as file:\n",
        "        lines = file.readlines()\n",
        "\n",
        "    lines = [line.strip() for line in lines] #줄바꿈 없애기\n",
        "    label_data = pd.DataFrame({'text': lines, 'label': label})\n",
        "\n",
        "    all_data = pd.concat([all_data, label_data], ignore_index=True)\n",
        "\n",
        "# submit as CSV file\n",
        "all_data.to_csv('dataset/data_set.csv', index=False)"
      ]
    },
    {
      "cell_type": "code",
      "execution_count": null,
      "metadata": {
        "id": "668BhYFHshr2"
      },
      "outputs": [],
      "source": [
        "df = pd.read_csv('dataset/data_set.csv')\n",
        "\n",
        "X = df['text']\n",
        "y = df['label']\n",
        "y[1:] = y[1:].astype(int)"
      ]
    },
    {
      "cell_type": "code",
      "execution_count": null,
      "metadata": {
        "id": "hajDfeS3bKj_"
      },
      "outputs": [],
      "source": [
        "!pip install packaging==21.3"
      ]
    },
    {
      "cell_type": "code",
      "execution_count": null,
      "metadata": {
        "id": "a5x_OtEkJFlN"
      },
      "outputs": [],
      "source": [
        "!pip install fastapi\n",
        "!pip install kaleido\n",
        "!pip install python-multipart\n",
        "!pip install uvicorn\n",
        "!pip install setuptools"
      ]
    },
    {
      "cell_type": "code",
      "execution_count": null,
      "metadata": {
        "id": "0YcwJKYWbKyW"
      },
      "outputs": [],
      "source": [
        "!pip install constituent-treelib"
      ]
    },
    {
      "cell_type": "code",
      "execution_count": null,
      "metadata": {
        "id": "oqmt0D3JbK5G"
      },
      "outputs": [],
      "source": [
        "!pip install packaging==21.3"
      ]
    },
    {
      "cell_type": "code",
      "execution_count": null,
      "metadata": {
        "id": "YbRfDS-VBRp4"
      },
      "outputs": [],
      "source": [
        "!pip install LegacyVersion"
      ]
    },
    {
      "cell_type": "markdown",
      "metadata": {
        "id": "KzpIdPN1IvIQ"
      },
      "source": [
        "![20231127-135641.jpg](data:image/jpeg;base64,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)\n",
        "\n",
        "상단 !pip install 모두 실행한 후 사진에 해당하는 warning 뜬 경우, 'restart runtime' 누른 후 pip install 코드 뛰어 넘고 바로 import 하면 됨"
      ]
    },
    {
      "cell_type": "markdown",
      "metadata": {
        "id": "29AxstqyWnhg"
      },
      "source": [
        "### Main Algorithm"
      ]
    },
    {
      "cell_type": "code",
      "execution_count": null,
      "metadata": {
        "id": "f0hV7-zYaGvN"
      },
      "outputs": [],
      "source": [
        "import spacy\n",
        "from constituent_treelib import ConstituentTree, Language\n",
        "from tqdm import tqdm"
      ]
    },
    {
      "cell_type": "code",
      "execution_count": null,
      "metadata": {
        "id": "cwYu5A-dRt5q"
      },
      "outputs": [],
      "source": [
        "parse = spacy.load(\"en_core_web_sm\")"
      ]
    },
    {
      "cell_type": "code",
      "execution_count": null,
      "metadata": {
        "colab": {
          "base_uri": "https://localhost:8080/"
        },
        "id": "FBz7pEYXaktX",
        "outputId": "f4e4aab4-f8b5-4b97-c4a0-ba358eb77d58"
      },
      "outputs": [
        {
          "name": "stdout",
          "output_type": "stream",
          "text": [
            "The spaCy model: 'en_core_web_md' was not found. Download is initiated...\n",
            "\u001b[38;5;2m✔ Download and installation successful\u001b[0m\n",
            "You can now load the package via spacy.load('en_core_web_md')\n"
          ]
        },
        {
          "name": "stderr",
          "output_type": "stream",
          "text": [
            "[nltk_data] Downloading package benepar_en3 to /usr/share/nltk_data...\n",
            "[nltk_data]   Unzipping models/benepar_en3.zip.\n",
            "You are using the default legacy behaviour of the <class 'transformers.models.t5.tokenization_t5.T5Tokenizer'>. This is expected, and simply means that the `legacy` (previous) behavior will be used so nothing changes for you. If you want to use the new behaviour, set `legacy=False`. This should only be set if you understand what it means, and thouroughly read the reason why this was added as explained in https://github.com/huggingface/transformers/pull/24565\n"
          ]
        }
      ],
      "source": [
        "# Define the language (underlying benepar and spaCy models)\n",
        "language = Language.English\n",
        "spacy_model_size = ConstituentTree.SpacyModelSize.Medium\n",
        "\n",
        "# neccesary NLP pipeline that is required to instantiate a ConstituentTree object\n",
        "nlp = ConstituentTree.create_pipeline(language, spacy_model_size)"
      ]
    },
    {
      "cell_type": "code",
      "execution_count": null,
      "metadata": {
        "id": "4WNRd9fjapZv"
      },
      "outputs": [],
      "source": [
        "def remove_sentence_a_from_b(sentence_a, sentence_b):\n",
        "    result = sentence_b.replace(sentence_a, '').strip()\n",
        "    return result"
      ]
    },
    {
      "cell_type": "code",
      "execution_count": null,
      "metadata": {
        "id": "4F_2HMV0gF95"
      },
      "outputs": [],
      "source": [
        "def SBAR_remove(all_phrases, sentence):\n",
        "    removed = sentence\n",
        "    for i in range(len(all_phrases['SBAR'])):\n",
        "        removed = remove_sentence_a_from_b(all_phrases['SBAR'][i], removed)\n",
        "    return removed"
      ]
    },
    {
      "cell_type": "code",
      "execution_count": null,
      "metadata": {
        "colab": {
          "base_uri": "https://localhost:8080/"
        },
        "id": "9ZEosJhgwJu4",
        "outputId": "a7b99761-8406-4830-eeeb-066f64ae4054"
      },
      "outputs": [
        {
          "name": "stderr",
          "output_type": "stream",
          "text": [
            " 12%|█▏        | 34/290 [00:04<00:38,  6.57it/s]"
          ]
        },
        {
          "name": "stdout",
          "output_type": "stream",
          "text": [
            "Flowers need sunlight to grow.  pred: 3  label: 1\n",
            "Flowers nsubj\n",
            "need ROOT\n",
            "sunlight nsubj\n",
            "to aux\n",
            "grow ccomp\n",
            ". punct\n",
            "\n",
            "\n"
          ]
        },
        {
          "name": "stderr",
          "output_type": "stream",
          "text": [
            " 18%|█▊        | 52/290 [00:07<00:43,  5.48it/s]"
          ]
        },
        {
          "name": "stdout",
          "output_type": "stream",
          "text": [
            "I feel happy when buying new clothes.  pred: 2  label: 1\n",
            "I nsubj\n",
            "feel ROOT\n",
            "happy acomp\n",
            ". punct\n",
            "\n",
            "\n",
            "While jogging, he found a lost puppy.  pred: 2  label: 1\n",
            ", punct\n",
            "he nsubj\n",
            "found ROOT\n",
            "a det\n",
            "lost amod\n",
            "puppy dobj\n",
            ". punct\n",
            "\n",
            "\n"
          ]
        },
        {
          "name": "stderr",
          "output_type": "stream",
          "text": [
            " 24%|██▍       | 69/290 [00:10<00:40,  5.50it/s]"
          ]
        },
        {
          "name": "stdout",
          "output_type": "stream",
          "text": [
            "There was nothing inherently difficult with getting the project done.  pred: 3  label: 1\n",
            "There expl\n",
            "was ROOT\n",
            "nothing attr\n",
            "inherently advmod\n",
            "difficult amod\n",
            "with prep\n",
            "getting pcomp\n",
            "the det\n",
            "project nsubj\n",
            "done ccomp\n",
            ". punct\n",
            "\n",
            "\n"
          ]
        },
        {
          "name": "stderr",
          "output_type": "stream",
          "text": [
            " 31%|███       | 90/290 [00:12<00:25,  7.74it/s]"
          ]
        },
        {
          "name": "stdout",
          "output_type": "stream",
          "text": [
            "Since he didn't have a car, he commuted to work using public transport.  pred: 4  label: 2\n",
            "Since mark\n",
            "he nsubj\n",
            "did aux\n",
            "n't neg\n",
            "have advcl\n",
            "a det\n",
            "car dobj\n",
            ", punct\n",
            "he nsubj\n",
            "commuted ROOT\n",
            "to aux\n",
            "work xcomp\n",
            "using xcomp\n",
            "public amod\n",
            "transport dobj\n",
            ". punct\n",
            "\n",
            "\n"
          ]
        },
        {
          "name": "stderr",
          "output_type": "stream",
          "text": [
            " 35%|███▍      | 101/290 [00:14<00:23,  7.94it/s]"
          ]
        },
        {
          "name": "stdout",
          "output_type": "stream",
          "text": [
            "Even though it was her birthday, she spent it working on a project.  pred: 4  label: 2\n",
            ", punct\n",
            "she nsubj\n",
            "spent ROOT\n",
            "it nsubj\n",
            "working ccomp\n",
            "on prep\n",
            "a det\n",
            "project pobj\n",
            ". punct\n",
            "\n",
            "\n"
          ]
        },
        {
          "name": "stderr",
          "output_type": "stream",
          "text": [
            " 44%|████▍     | 129/290 [00:17<00:19,  8.33it/s]"
          ]
        },
        {
          "name": "stdout",
          "output_type": "stream",
          "text": [
            "He went to the store after realizing he was out of milk.  pred: 3  label: 2\n",
            "He nsubj\n",
            "went ROOT\n",
            "to prep\n",
            "the det\n",
            "store pobj\n",
            "after prep\n",
            "realizing pcomp\n",
            "he nsubj\n",
            "was ccomp\n",
            "out prep\n",
            "of prep\n",
            "milk pobj\n",
            ". punct\n",
            "\n",
            "\n"
          ]
        },
        {
          "name": "stderr",
          "output_type": "stream",
          "text": [
            " 53%|█████▎    | 153/290 [00:20<00:24,  5.59it/s]"
          ]
        },
        {
          "name": "stdout",
          "output_type": "stream",
          "text": [
            "While I was careful to observe my surroundings, I almost tripped walking up to my door since I couldn’t see in the darkness.  pred: 4  label: 2\n",
            ", punct\n",
            "I nsubj\n",
            "almost advmod\n",
            "tripped ROOT\n",
            "walking xcomp\n",
            "up prt\n",
            "to prep\n",
            "my poss\n",
            "door pobj\n",
            "since mark\n",
            "I nsubj\n",
            "could aux\n",
            "n’t neg\n",
            "see advcl\n",
            "in prep\n",
            "the det\n",
            "darkness pobj\n",
            ". punct\n",
            "\n",
            "\n"
          ]
        },
        {
          "name": "stderr",
          "output_type": "stream",
          "text": [
            " 55%|█████▌    | 160/290 [00:22<00:25,  5.19it/s]"
          ]
        },
        {
          "name": "stdout",
          "output_type": "stream",
          "text": [
            "The students, whatever their skill levels, all showed improvement.  pred: 4  label: 2\n",
            "The det\n",
            "students nsubj\n",
            ", punct\n",
            ", punct\n",
            "all nsubj\n",
            "showed ROOT\n",
            "improvement dobj\n",
            ". punct\n",
            "\n",
            "\n"
          ]
        },
        {
          "name": "stderr",
          "output_type": "stream",
          "text": [
            " 56%|█████▌    | 162/290 [00:22<00:27,  4.61it/s]"
          ]
        },
        {
          "name": "stdout",
          "output_type": "stream",
          "text": [
            "If you can imagine a furry humanoid seven feet tall, with the face of an intelligent gorilla and the braincase of a man, you'll have a rough idea of what they looked like  pred: 4  label: 2\n",
            "If mark\n",
            "you nsubj\n",
            "can aux\n",
            "imagine advcl\n",
            "a det\n",
            "furry dobj\n",
            "humanoid appos\n",
            "seven nummod\n",
            "feet npadvmod\n",
            "tall oprd\n",
            ", punct\n",
            "with prep\n",
            "the det\n",
            "face pobj\n",
            "of prep\n",
            "an det\n",
            "intelligent amod\n",
            "gorilla pobj\n",
            "and cc\n",
            "the det\n",
            "braincase conj\n",
            "of prep\n",
            "a det\n",
            "man pobj\n",
            ", punct\n",
            "you nsubj\n",
            "'ll aux\n",
            "have ROOT\n",
            "a det\n",
            "rough amod\n",
            "idea dobj\n",
            "of prep\n",
            "\n",
            "\n"
          ]
        },
        {
          "name": "stderr",
          "output_type": "stream",
          "text": [
            " 61%|██████    | 176/290 [00:25<00:21,  5.26it/s]"
          ]
        },
        {
          "name": "stdout",
          "output_type": "stream",
          "text": [
            "The Angel Falls waterfall in Venezuela plunges 907 meters; it looks spectacular.  pred: 1  label: 3\n",
            "The det\n",
            "Angel compound\n",
            "Falls compound\n",
            "waterfall dep\n",
            "in prep\n",
            "Venezuela compound\n",
            "plunges pobj\n",
            "907 nummod\n",
            "meters appos\n",
            "; punct\n",
            "it nsubj\n",
            "looks ROOT\n",
            "spectacular acomp\n",
            ". punct\n",
            "\n",
            "\n"
          ]
        },
        {
          "name": "stderr",
          "output_type": "stream",
          "text": [
            " 62%|██████▏   | 179/290 [00:25<00:20,  5.52it/s]"
          ]
        },
        {
          "name": "stdout",
          "output_type": "stream",
          "text": [
            "Call us next week; it should be in then.  pred: 1  label: 3\n",
            "Call advcl\n",
            "us dobj\n",
            "next amod\n",
            "week npadvmod\n",
            "; punct\n",
            "it nsubj\n",
            "should aux\n",
            "be ROOT\n",
            "in prep\n",
            "then pcomp\n",
            ". punct\n",
            "\n",
            "\n"
          ]
        },
        {
          "name": "stderr",
          "output_type": "stream",
          "text": [
            " 68%|██████▊   | 197/290 [00:28<00:12,  7.31it/s]"
          ]
        },
        {
          "name": "stdout",
          "output_type": "stream",
          "text": [
            "Power tends to corrupt, and absolute power corrupts absolutely.  pred: 1  label: 3\n",
            "Power nsubj\n",
            "tends ROOT\n",
            "to aux\n",
            "corrupt xcomp\n",
            ", punct\n",
            "and cc\n",
            "absolute amod\n",
            "power compound\n",
            "corrupts conj\n",
            "absolutely advmod\n",
            ". punct\n",
            "\n",
            "\n"
          ]
        },
        {
          "name": "stderr",
          "output_type": "stream",
          "text": [
            "100%|██████████| 290/290 [00:47<00:00,  6.06it/s]"
          ]
        },
        {
          "name": "stdout",
          "output_type": "stream",
          "text": [
            "I’m going back to that restaurant, so I can order what I really want.  pred: 2  label: 4\n",
            "I nsubj\n",
            "’m aux\n",
            "going ROOT\n",
            "back advmod\n",
            "to prep\n",
            "that det\n",
            "restaurant pobj\n",
            ", punct\n",
            ". punct\n",
            "\n",
            "\n",
            "0.9513888888888888\n"
          ]
        },
        {
          "name": "stderr",
          "output_type": "stream",
          "text": [
            "\n"
          ]
        }
      ],
      "source": [
        "accuracy = 0\n",
        "cnt = 0\n",
        "for index, text_data in tqdm(list(X.items())[1:]):\n",
        "    try:\n",
        "        tree = ConstituentTree(text_data, nlp)\n",
        "        all_phrases = tree.extract_all_phrases()\n",
        "\n",
        "        #count dependent clauses\n",
        "        if 'SBAR' in all_phrases.keys():\n",
        "            indep_only = SBAR_remove(all_phrases,text_data)\n",
        "            dep_cnt = True\n",
        "\n",
        "        else:\n",
        "            indep_only = text_data\n",
        "            dep_cnt = False\n",
        "\n",
        "        #dependency analysis of independent clauses\n",
        "        indep_parsed = parse(indep_only)\n",
        "\n",
        "        #count independent clauses\n",
        "        indep_cnt = 0\n",
        "\n",
        "        if indep_parsed[0].dep_ == 'ROOT': #명령문 별도 처리\n",
        "            indep_cnt += 1\n",
        "\n",
        "        for token in indep_parsed:\n",
        "            if (token.dep_ in ['nsubj', 'nsubjpass', 'csubj', 'csubjpass']) or (token.tag_ == 'EX'): #절의 주어 및 existential there의 개수에 따라 독립문 개수 처리\n",
        "                indep_cnt += 1\n",
        "\n",
        "\n",
        "        '''predict'''\n",
        "        if not dep_cnt:\n",
        "            if indep_cnt<=1:\n",
        "                pred = 1 #simple\n",
        "\n",
        "            else:\n",
        "                pred = 3 #compound\n",
        "\n",
        "        elif dep_cnt:\n",
        "            if indep_cnt<=1:\n",
        "                pred = 2 #complex\n",
        "\n",
        "            else:\n",
        "                pred = 4 #complex-compound\n",
        "\n",
        "        '''evaluate'''\n",
        "        cnt += 1\n",
        "        if pred == y[index]:\n",
        "            accuracy +=1\n",
        "\n",
        "        else: #for the incorrect prediction\n",
        "            print(text_data, \" pred:\", pred, \" label:\", y[index])\n",
        "            for token in indep_parsed:\n",
        "                print(token.text, token.dep_)\n",
        "\n",
        "            print(\"\\n\")\n",
        "\n",
        "\n",
        "    except: #when encoding error happened\n",
        "        continue\n",
        "\n",
        "accuracy /= cnt\n",
        "print(accuracy)"
      ]
    },
    {
      "cell_type": "code",
      "execution_count": null,
      "metadata": {
        "colab": {
          "base_uri": "https://localhost:8080/"
        },
        "id": "urusTocYLEXw",
        "outputId": "f8dd588f-9b0c-41ac-d5ac-f7fd86cf056b"
      },
      "outputs": [
        {
          "name": "stdout",
          "output_type": "stream",
          "text": [
            "Count of actual inputs: 288, Accuracy: 0.9513888888888888\n"
          ]
        }
      ],
      "source": [
        "print(f\"Count of actual inputs: {cnt}, Accuracy: {accuracy}\")"
      ]
    },
    {
      "cell_type": "markdown",
      "metadata": {
        "id": "02yOAYStLa1L"
      },
      "source": [
        "## 논의 사항\n",
        "\n",
        "### 1. 문법적으로 애매한 부분들 존재\n",
        "0. 문법적으로, simple / complex / compound 분류하기 모호한 케이스 존재함 (명확히 정의하는 것이 필요함)  \n",
        "ex) He went to the store after realizing he was out of milk.\n",
        "\n",
        "**<현재 알고리즘에서 전제하는 규칙>**\n",
        "\n",
        "1. 동일한 주어, 등위접속사 통해 서술어를 나열한 경우  \n",
        "→ compound가 아닌, simple sentence로 간주\n",
        "2. 분사구문은 부사절(clause)을 부사구(phrase)로 만든 형태로, 복문을 단문으로 변환시킬 때 자주 사용하는 컨셉.  \n",
        "→  즉 독립절에 분사구문이 추가된 경우 simple sentence로 간주  \n",
        "\n",
        "### 2. 모델 한계\n",
        "- 데이터의 한계: 서비스 현장에서 input이 어떠한 형식으로, 어떠한 비율로 들어오는지에 따라 accuracy 달라질 것으로 예상\n",
        "- ConstituentTree나 Spacy가 'SBAR(종속접속사, subordinating conjunction)'나 절의 주어('nsubj', 'nsubjpass', 'csubj', 'csubjpass')를 잘못 인식한 경우 에러 발생  \n",
        "ex) Age shall not weary them, nor the years condemn.  \n",
        "- 고유명사를 주어로 인식하지 못함  \n",
        "ex) The Angel Falls waterfall in Venezuela plunges 907 meters; it looks spectacular.  \n",
        "- 분사구문을 종속절로 볼지, 부사구로 볼지에 따라 알고리즘이 달라짐. 현재 알고리즘은 부사구로 해석하도록 Prior를 설정. 그러나, ConstituentTree가 분사구문 앞의 접속사를 SBAR로 인식하는 경우 오답 발생  \n",
        "- 명령문의 첫 번째 서술어가 'ROOT'로 인식되지 않을 경우 오답 발생  \n",
        "   ex) Call us next week; it should be in then.   \n",
        "\n",
        "#### 3. 비고\n",
        "- 입력 텍스트 인코딩에 문제가 생겼을 경우 try - except로 처리함\n",
        "- 명령문의 경우 독립절로 처리해야 하지만, 설계한 알고리즘이 절의 주어를 기준으로 독립절을 판별하므로, 명령문 한정하여 별도 처리함\n",
        "- There 유도부사 도치구문 (There is ~, There are ~, etc.)에서 절의 주어를 찾지 못하는 경향이 있어, 해당 코너케이스에 대해 'token.tag_ == 'EX''통해 별도 처리함\n",
        "- 데이터셋을 더 충분히 확보했다면, 데이터 전처리 거친 후(clause 구분과 관련된 요소만 남기기) Bert 파인튜닝 시도해볼 것 같음\n",
        "\n"
      ]
    },
    {
      "cell_type": "markdown",
      "metadata": {
        "id": "isW3HJNSJqEJ"
      },
      "source": [
        "## References:\n",
        "\n",
        "*Domain knowlege*\n",
        "- https://www.grammarly.com/blog/simple-sentence/\n",
        "- https://ieeexplore.ieee.org/stamp/stamp.jsp?arnumber=9774397\n",
        "- https://www.houstonisd.org/cms/lib2/TX01001591/Centricity/Domain/26063/CLASSIFYING%20SENTENCES%20-%20STUDY%20GUIDE.pdf\n",
        "\n",
        "*Tools & References to help classifying sentence types*\n",
        "- https://github.com/explosion/spaCy/blob/master/spacy/glossary.py\n",
        "- https://www.nltk.org/_modules/nltk/parse/corenlp.html\n",
        "- https://github.com/Halvani/Constituent-Treelib/blob/main/README.md\n",
        "- https://downloads.cs.stanford.edu/nlp/software/dependencies_manual.pdf\n",
        "- https://spacy.io/usage/linguistic-features\n",
        "- https://www.nltk.org/book/ch08.html#fig-ic-diagram\n",
        "- https://www.tutorialspoint.com/natural_language_processing/natural_language_processing_syntactic_analysis.htm\n",
        "- https://www.nltk.org/book_1ed/ch08-extras.html\n",
        "\n"
      ]
    }
  ],
  "metadata": {
    "colab": {
      "provenance": []
    },
    "kernelspec": {
      "display_name": "Python 3",
      "name": "python3"
    },
    "language_info": {
      "name": "python"
    }
  },
  "nbformat": 4,
  "nbformat_minor": 0
}
